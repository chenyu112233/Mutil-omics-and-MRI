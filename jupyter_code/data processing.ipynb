{
 "cells": [
  {
   "cell_type": "code",
   "execution_count": 1,
   "id": "2328077e",
   "metadata": {},
   "outputs": [],
   "source": [
    "from skimage import transform,exposure\n",
    "from sklearn import model_selection, preprocessing, metrics, feature_selection\n",
    "import os\n",
    "import time\n",
    "import numpy as np\n",
    "import pandas as pd\n",
    "import torch\n",
    "from sklearn.preprocessing import MinMaxScaler\n",
    "from torch.utils import data as torch_data\n",
    "from torch.nn import functional as torch_functional\n",
    "\n",
    "from MRI_package.myDataset import GetLoader\n",
    "from sklearn.model_selection import StratifiedKFold\n",
    "from sklearn.metrics import roc_auc_score\n",
    "from MRI_package.utils2 import mkdir,load_npy_data,calculate,_init_fn,set_seed"
   ]
  },
  {
   "cell_type": "code",
   "execution_count": 19,
   "id": "89aa6764",
   "metadata": {},
   "outputs": [],
   "source": [
    "dir=\"/home/linjiatai/Research/Data/model_data/xlsx\"\n",
    "MRI_dir=\"/home/linjiatai/Research/Data/MRI\""
   ]
  },
  {
   "cell_type": "code",
   "execution_count": 57,
   "id": "5cd39d63",
   "metadata": {},
   "outputs": [],
   "source": [
    "meta=pd.read_excel(os.path.join(MRI_dir,\"protein\",\"model_meta_fal.xlsx\"))\n",
    "meta_train=pd.read_excel(os.path.join(dir,\"meta_train.xlsx\"))\n",
    "meta_test=pd.read_excel(os.path.join(dir,\"meta_test.xlsx\"))\n",
    "MRI_lasso_train=pd.read_excel(os.path.join(dir,\"MRI_lasso_train.xlsx\"))\n",
    "MRI_lasso_test=pd.read_excel(os.path.join(dir,\"MRI_lasso_test.xlsx\"))\n",
    "MRI_ttest_train=pd.read_excel(os.path.join(dir,\"MRI_ttest_train.xlsx\"))\n",
    "MRI_ttest_test=pd.read_excel(os.path.join(dir,\"MRI_ttest_test.xlsx\"))\n",
    "protein_train=pd.read_excel(os.path.join(dir,\"protein_train.xlsx\"))\n",
    "protein_test=pd.read_excel(os.path.join(dir,\"protein_test.xlsx\"))\n",
    "\n",
    "MRI_train=meta_train[\"MRI\"]\n",
    "MRI_test=meta_test[\"MRI\"]\n",
    "y_train=meta_train[\"pCR\"]\n",
    "y_test=meta_test[\"pCR\"]\n",
    "meta_train=meta_train.iloc[:,2:]\n",
    "meta_test=meta_train.iloc[:,2:]\n",
    "protein_train=protein_train.iloc[:,1:]\n",
    "protein_test=protein_test.iloc[:,1:]\n",
    "MRI_lasso_train=MRI_lasso_train.iloc[:,1:]\n",
    "MRI_lasso_test=MRI_lasso_test.iloc[:,1:]\n",
    "MRI_ttest_train=MRI_ttest_train.iloc[:,1:]\n",
    "MRI_ttest_test=MRI_ttest_test.iloc[:,1:]"
   ]
  },
  {
   "cell_type": "code",
   "execution_count": 58,
   "id": "5b31ec40",
   "metadata": {},
   "outputs": [],
   "source": [
    "meta=meta.set_index(\"MRI\")\n",
    "meta=meta.iloc[:,1:]"
   ]
  },
  {
   "cell_type": "code",
   "execution_count": 59,
   "id": "bea4b6c7",
   "metadata": {},
   "outputs": [],
   "source": [
    "scaler = MinMaxScaler()\n",
    "protein_train=scaler.fit_transform(protein_train)\n",
    "protein_test=scaler.fit_transform(protein_test)"
   ]
  },
  {
   "cell_type": "code",
   "execution_count": 60,
   "id": "0b796587",
   "metadata": {},
   "outputs": [],
   "source": [
    "meta1=pd.get_dummies(meta)\n",
    "scaler = MinMaxScaler()\n",
    "# 对DataFrame中的每一列进行归一化\n",
    "meta2= scaler.fit_transform(meta1)"
   ]
  },
  {
   "cell_type": "code",
   "execution_count": 61,
   "id": "eb07b05a",
   "metadata": {},
   "outputs": [],
   "source": [
    "meta2=pd.DataFrame(meta2)\n",
    "meta2.columns=meta1.columns\n",
    "meta2.index=meta1.index"
   ]
  },
  {
   "cell_type": "code",
   "execution_count": 62,
   "id": "0770d3d2",
   "metadata": {},
   "outputs": [],
   "source": [
    "meta_train=meta2.loc[MRI_train]\n",
    "meta_test=meta2.loc[MRI_test]"
   ]
  },
  {
   "cell_type": "code",
   "execution_count": 63,
   "id": "ce9507a3",
   "metadata": {},
   "outputs": [
    {
     "name": "stdout",
     "output_type": "stream",
     "text": [
      "loading....\n",
      "11698751\n",
      "before resize shape (55, 64, 66)\n",
      "11496266\n",
      "before resize shape (47, 34, 34)\n",
      "11337169\n",
      "before resize shape (41, 85, 51)\n",
      "11678836\n",
      "before resize shape (32, 36, 28)\n",
      "11543998\n",
      "before resize shape (68, 52, 68)\n",
      "11514471\n",
      "before resize shape (28, 21, 24)\n",
      "11499914\n",
      "before resize shape (70, 100, 83)\n",
      "11456908\n",
      "before resize shape (96, 117, 86)\n",
      "11731455\n",
      "before resize shape (69, 72, 80)\n",
      "10976546\n",
      "before resize shape (40, 68, 47)\n",
      "11404064\n",
      "before resize shape (36, 62, 30)\n",
      "11684525\n",
      "before resize shape (21, 16, 20)\n",
      "11576884\n",
      "before resize shape (30, 52, 21)\n",
      "11763455\n",
      "before resize shape (65, 96, 52)\n",
      "11288231\n",
      "before resize shape (30, 32, 80)\n",
      "11749792\n",
      "before resize shape (40, 51, 41)\n",
      "11277955\n",
      "before resize shape (23, 26, 45)\n",
      "11453290\n",
      "before resize shape (68, 45, 127)\n",
      "10687794\n",
      "before resize shape (55, 38, 50)\n",
      "10752825\n",
      "before resize shape (54, 53, 39)\n",
      "11692549\n",
      "before resize shape (216, 114, 76)\n",
      "10607177\n",
      "before resize shape (47, 47, 49)\n",
      "11414198\n",
      "before resize shape (27, 24, 21)\n",
      "11391454\n",
      "before resize shape (50, 45, 34)\n",
      "11581217\n",
      "before resize shape (40, 33, 32)\n",
      "11398377\n",
      "before resize shape (31, 29, 28)\n",
      "11851671\n",
      "before resize shape (42, 50, 36)\n",
      "11688636\n",
      "before resize shape (47, 66, 34)\n",
      "11572547\n",
      "before resize shape (189, 38, 36)\n",
      "11111843\n",
      "before resize shape (42, 73, 89)\n",
      "11670254\n",
      "before resize shape (38, 40, 54)\n",
      "11538508\n",
      "before resize shape (29, 66, 44)\n",
      "11630651\n",
      "before resize shape (32, 51, 29)\n",
      "11414484\n",
      "before resize shape (101, 136, 105)\n",
      "11648947\n",
      "before resize shape (396, 66, 65)\n",
      "11428472\n",
      "before resize shape (26, 37, 24)\n",
      "11414457\n",
      "before resize shape (55, 70, 50)\n",
      "11623956\n",
      "before resize shape (34, 36, 42)\n",
      "11647026\n",
      "before resize shape (35, 36, 43)\n",
      "11214823\n",
      "before resize shape (28, 26, 27)\n",
      "11370674\n",
      "before resize shape (23, 24, 55)\n",
      "11735031\n",
      "before resize shape (91, 98, 96)\n",
      "11658674\n",
      "before resize shape (202, 89, 50)\n",
      "11830793\n",
      "before resize shape (41, 55, 58)\n",
      "11052773\n",
      "before resize shape (57, 74, 41)\n",
      "11464452\n",
      "before resize shape (92, 59, 66)\n",
      "11616223\n",
      "before resize shape (52, 55, 62)\n",
      "11376771\n",
      "before resize shape (68, 69, 63)\n",
      "11324047\n",
      "before resize shape (28, 47, 42)\n",
      "11464436\n",
      "before resize shape (32, 35, 28)\n",
      "10655238\n"
     ]
    },
    {
     "ename": "KeyboardInterrupt",
     "evalue": "",
     "output_type": "error",
     "traceback": [
      "\u001b[0;31m---------------------------------------------------------------------------\u001b[0m",
      "\u001b[0;31mKeyboardInterrupt\u001b[0m                         Traceback (most recent call last)",
      "\u001b[0;32m<ipython-input-63-8be513c1d622>\u001b[0m in \u001b[0;36m<module>\u001b[0;34m\u001b[0m\n\u001b[1;32m      1\u001b[0m \u001b[0;31m#np读取数据\u001b[0m\u001b[0;34m\u001b[0m\u001b[0;34m\u001b[0m\u001b[0m\n\u001b[0;32m----> 2\u001b[0;31m \u001b[0mdatanp_train\u001b[0m\u001b[0;34m=\u001b[0m\u001b[0mload_npy_data\u001b[0m\u001b[0;34m(\u001b[0m\u001b[0mMRI_train\u001b[0m\u001b[0;34m,\u001b[0m\u001b[0mMRI_dir\u001b[0m\u001b[0;34m,\u001b[0m\u001b[0;34m\"1\"\u001b[0m\u001b[0;34m)\u001b[0m\u001b[0;34m\u001b[0m\u001b[0m\n\u001b[0m\u001b[1;32m      3\u001b[0m \u001b[0mdatanp_val\u001b[0m\u001b[0;34m=\u001b[0m\u001b[0mload_npy_data\u001b[0m\u001b[0;34m(\u001b[0m\u001b[0mMRI_test\u001b[0m\u001b[0;34m,\u001b[0m\u001b[0mMRI_dir\u001b[0m\u001b[0;34m,\u001b[0m\u001b[0;34m\"1\"\u001b[0m\u001b[0;34m)\u001b[0m\u001b[0;34m\u001b[0m\u001b[0m\n",
      "\u001b[0;32m~/Research/jupyter/3DMRI_model/MRI_package/utils2.py\u001b[0m in \u001b[0;36mload_npy_data\u001b[0;34m(MRI_list, dir, splits)\u001b[0m\n\u001b[1;32m     20\u001b[0m \u001b[0;34m\u001b[0m\u001b[0m\n\u001b[1;32m     21\u001b[0m \u001b[0;34m\u001b[0m\u001b[0m\n\u001b[0;32m---> 22\u001b[0;31m         \u001b[0mimg\u001b[0m\u001b[0;34m=\u001b[0m\u001b[0mread_Nifit\u001b[0m\u001b[0;34m(\u001b[0m\u001b[0mimg_path\u001b[0m\u001b[0;34m)\u001b[0m\u001b[0;31m#返回np\u001b[0m\u001b[0;34m\u001b[0m\u001b[0m\n\u001b[0m\u001b[1;32m     23\u001b[0m         \u001b[0mmask\u001b[0m\u001b[0;34m=\u001b[0m\u001b[0mread_Nifit\u001b[0m\u001b[0;34m(\u001b[0m\u001b[0mmask_path\u001b[0m\u001b[0;34m)\u001b[0m\u001b[0;34m\u001b[0m\u001b[0m\n\u001b[1;32m     24\u001b[0m \u001b[0;34m\u001b[0m\u001b[0m\n",
      "\u001b[0;32m~/Research/jupyter/3DMRI_model/MRI_package/utils2.py\u001b[0m in \u001b[0;36mread_Nifit\u001b[0;34m(path)\u001b[0m\n\u001b[1;32m     53\u001b[0m \u001b[0;32mdef\u001b[0m \u001b[0mread_Nifit\u001b[0m\u001b[0;34m(\u001b[0m\u001b[0mpath\u001b[0m\u001b[0;34m)\u001b[0m\u001b[0;34m:\u001b[0m\u001b[0;31m#返回np\u001b[0m\u001b[0;34m\u001b[0m\u001b[0m\n\u001b[1;32m     54\u001b[0m     \u001b[0mimg_data\u001b[0m\u001b[0;34m=\u001b[0m\u001b[0mnib\u001b[0m\u001b[0;34m.\u001b[0m\u001b[0mload\u001b[0m\u001b[0;34m(\u001b[0m\u001b[0mpath\u001b[0m\u001b[0;34m)\u001b[0m\u001b[0;31m#加载数据\u001b[0m\u001b[0;34m\u001b[0m\u001b[0m\n\u001b[0;32m---> 55\u001b[0;31m     \u001b[0mimg\u001b[0m\u001b[0;34m=\u001b[0m\u001b[0mimg_data\u001b[0m\u001b[0;34m.\u001b[0m\u001b[0mget_fdata\u001b[0m\u001b[0;34m(\u001b[0m\u001b[0;34m)\u001b[0m\u001b[0;31m#获取图像数据\u001b[0m\u001b[0;34m\u001b[0m\u001b[0m\n\u001b[0m\u001b[1;32m     56\u001b[0m     \u001b[0mnpimg\u001b[0m\u001b[0;34m=\u001b[0m\u001b[0mnp\u001b[0m\u001b[0;34m.\u001b[0m\u001b[0marray\u001b[0m\u001b[0;34m(\u001b[0m\u001b[0mimg\u001b[0m\u001b[0;34m)\u001b[0m\u001b[0;34m\u001b[0m\u001b[0m\n\u001b[1;32m     57\u001b[0m     \u001b[0mnpimg\u001b[0m \u001b[0;34m=\u001b[0m \u001b[0mnpimg\u001b[0m\u001b[0;34m.\u001b[0m\u001b[0mastype\u001b[0m\u001b[0;34m(\u001b[0m\u001b[0;34m'float32'\u001b[0m\u001b[0;34m)\u001b[0m\u001b[0;34m\u001b[0m\u001b[0m\n",
      "\u001b[0;32m~/anaconda3/envs/linjiatai/lib/python3.7/site-packages/nibabel/dataobj_images.py\u001b[0m in \u001b[0;36mget_fdata\u001b[0;34m(self, caching, dtype)\u001b[0m\n\u001b[1;32m    353\u001b[0m         \u001b[0;31m# For array proxies, will attempt to confine data array to dtype\u001b[0m\u001b[0;34m\u001b[0m\u001b[0;34m\u001b[0m\u001b[0m\n\u001b[1;32m    354\u001b[0m         \u001b[0;31m# during scaling\u001b[0m\u001b[0;34m\u001b[0m\u001b[0;34m\u001b[0m\u001b[0m\n\u001b[0;32m--> 355\u001b[0;31m         \u001b[0mdata\u001b[0m \u001b[0;34m=\u001b[0m \u001b[0mnp\u001b[0m\u001b[0;34m.\u001b[0m\u001b[0masanyarray\u001b[0m\u001b[0;34m(\u001b[0m\u001b[0mself\u001b[0m\u001b[0;34m.\u001b[0m\u001b[0m_dataobj\u001b[0m\u001b[0;34m,\u001b[0m \u001b[0mdtype\u001b[0m\u001b[0;34m=\u001b[0m\u001b[0mdtype\u001b[0m\u001b[0;34m)\u001b[0m\u001b[0;34m\u001b[0m\u001b[0m\n\u001b[0m\u001b[1;32m    356\u001b[0m         \u001b[0;32mif\u001b[0m \u001b[0mcaching\u001b[0m \u001b[0;34m==\u001b[0m \u001b[0;34m'fill'\u001b[0m\u001b[0;34m:\u001b[0m\u001b[0;34m\u001b[0m\u001b[0m\n\u001b[1;32m    357\u001b[0m             \u001b[0mself\u001b[0m\u001b[0;34m.\u001b[0m\u001b[0m_fdata_cache\u001b[0m \u001b[0;34m=\u001b[0m \u001b[0mdata\u001b[0m\u001b[0;34m\u001b[0m\u001b[0m\n",
      "\u001b[0;32m~/anaconda3/envs/linjiatai/lib/python3.7/site-packages/nibabel/arrayproxy.py\u001b[0m in \u001b[0;36m__array__\u001b[0;34m(self, dtype)\u001b[0m\n\u001b[1;32m    368\u001b[0m             \u001b[0mScaled\u001b[0m \u001b[0mimage\u001b[0m \u001b[0mdata\u001b[0m \u001b[0;32mwith\u001b[0m \u001b[0mtype\u001b[0m\u001b[0;31m \u001b[0m\u001b[0;31m`\u001b[0m\u001b[0mdtype\u001b[0m\u001b[0;31m`\u001b[0m\u001b[0;34m.\u001b[0m\u001b[0;34m\u001b[0m\u001b[0m\n\u001b[1;32m    369\u001b[0m         \"\"\"\n\u001b[0;32m--> 370\u001b[0;31m         \u001b[0marr\u001b[0m \u001b[0;34m=\u001b[0m \u001b[0mself\u001b[0m\u001b[0;34m.\u001b[0m\u001b[0m_get_scaled\u001b[0m\u001b[0;34m(\u001b[0m\u001b[0mdtype\u001b[0m\u001b[0;34m=\u001b[0m\u001b[0mdtype\u001b[0m\u001b[0;34m,\u001b[0m \u001b[0mslicer\u001b[0m\u001b[0;34m=\u001b[0m\u001b[0;34m(\u001b[0m\u001b[0;34m)\u001b[0m\u001b[0;34m)\u001b[0m\u001b[0;34m\u001b[0m\u001b[0m\n\u001b[0m\u001b[1;32m    371\u001b[0m         \u001b[0;32mif\u001b[0m \u001b[0mdtype\u001b[0m \u001b[0;32mis\u001b[0m \u001b[0;32mnot\u001b[0m \u001b[0;32mNone\u001b[0m\u001b[0;34m:\u001b[0m\u001b[0;34m\u001b[0m\u001b[0m\n\u001b[1;32m    372\u001b[0m             \u001b[0marr\u001b[0m \u001b[0;34m=\u001b[0m \u001b[0marr\u001b[0m\u001b[0;34m.\u001b[0m\u001b[0mastype\u001b[0m\u001b[0;34m(\u001b[0m\u001b[0mdtype\u001b[0m\u001b[0;34m,\u001b[0m \u001b[0mcopy\u001b[0m\u001b[0;34m=\u001b[0m\u001b[0;32mFalse\u001b[0m\u001b[0;34m)\u001b[0m\u001b[0;34m\u001b[0m\u001b[0m\n",
      "\u001b[0;32m~/anaconda3/envs/linjiatai/lib/python3.7/site-packages/nibabel/arrayproxy.py\u001b[0m in \u001b[0;36m_get_scaled\u001b[0;34m(self, dtype, slicer)\u001b[0m\n\u001b[1;32m    335\u001b[0m             \u001b[0mscl_inter\u001b[0m \u001b[0;34m=\u001b[0m \u001b[0mscl_inter\u001b[0m\u001b[0;34m.\u001b[0m\u001b[0mastype\u001b[0m\u001b[0;34m(\u001b[0m\u001b[0muse_dtype\u001b[0m\u001b[0;34m)\u001b[0m\u001b[0;34m\u001b[0m\u001b[0m\n\u001b[1;32m    336\u001b[0m         \u001b[0;31m# Read array and upcast as necessary for big slopes, intercepts\u001b[0m\u001b[0;34m\u001b[0m\u001b[0;34m\u001b[0m\u001b[0m\n\u001b[0;32m--> 337\u001b[0;31m         \u001b[0mscaled\u001b[0m \u001b[0;34m=\u001b[0m \u001b[0mapply_read_scaling\u001b[0m\u001b[0;34m(\u001b[0m\u001b[0mself\u001b[0m\u001b[0;34m.\u001b[0m\u001b[0m_get_unscaled\u001b[0m\u001b[0;34m(\u001b[0m\u001b[0mslicer\u001b[0m\u001b[0;34m=\u001b[0m\u001b[0mslicer\u001b[0m\u001b[0;34m)\u001b[0m\u001b[0;34m,\u001b[0m \u001b[0mscl_slope\u001b[0m\u001b[0;34m,\u001b[0m \u001b[0mscl_inter\u001b[0m\u001b[0;34m)\u001b[0m\u001b[0;34m\u001b[0m\u001b[0m\n\u001b[0m\u001b[1;32m    338\u001b[0m         \u001b[0;32mif\u001b[0m \u001b[0mdtype\u001b[0m \u001b[0;32mis\u001b[0m \u001b[0;32mnot\u001b[0m \u001b[0;32mNone\u001b[0m\u001b[0;34m:\u001b[0m\u001b[0;34m\u001b[0m\u001b[0m\n\u001b[1;32m    339\u001b[0m             \u001b[0mscaled\u001b[0m \u001b[0;34m=\u001b[0m \u001b[0mscaled\u001b[0m\u001b[0;34m.\u001b[0m\u001b[0mastype\u001b[0m\u001b[0;34m(\u001b[0m\u001b[0mnp\u001b[0m\u001b[0;34m.\u001b[0m\u001b[0mpromote_types\u001b[0m\u001b[0;34m(\u001b[0m\u001b[0mscaled\u001b[0m\u001b[0;34m.\u001b[0m\u001b[0mdtype\u001b[0m\u001b[0;34m,\u001b[0m \u001b[0mdtype\u001b[0m\u001b[0;34m)\u001b[0m\u001b[0;34m,\u001b[0m \u001b[0mcopy\u001b[0m\u001b[0;34m=\u001b[0m\u001b[0;32mFalse\u001b[0m\u001b[0;34m)\u001b[0m\u001b[0;34m\u001b[0m\u001b[0m\n",
      "\u001b[0;32m~/anaconda3/envs/linjiatai/lib/python3.7/site-packages/nibabel/arrayproxy.py\u001b[0m in \u001b[0;36m_get_unscaled\u001b[0;34m(self, slicer)\u001b[0m\n\u001b[1;32m    314\u001b[0m                                        \u001b[0moffset\u001b[0m\u001b[0;34m=\u001b[0m\u001b[0mself\u001b[0m\u001b[0;34m.\u001b[0m\u001b[0m_offset\u001b[0m\u001b[0;34m,\u001b[0m\u001b[0;34m\u001b[0m\u001b[0m\n\u001b[1;32m    315\u001b[0m                                        \u001b[0morder\u001b[0m\u001b[0;34m=\u001b[0m\u001b[0mself\u001b[0m\u001b[0;34m.\u001b[0m\u001b[0morder\u001b[0m\u001b[0;34m,\u001b[0m\u001b[0;34m\u001b[0m\u001b[0m\n\u001b[0;32m--> 316\u001b[0;31m                                        mmap=self._mmap)\n\u001b[0m\u001b[1;32m    317\u001b[0m         \u001b[0;32mwith\u001b[0m \u001b[0mself\u001b[0m\u001b[0;34m.\u001b[0m\u001b[0m_get_fileobj\u001b[0m\u001b[0;34m(\u001b[0m\u001b[0;34m)\u001b[0m \u001b[0;32mas\u001b[0m \u001b[0mfileobj\u001b[0m\u001b[0;34m:\u001b[0m\u001b[0;34m\u001b[0m\u001b[0m\n\u001b[1;32m    318\u001b[0m             return fileslice(fileobj,\n",
      "\u001b[0;32m~/anaconda3/envs/linjiatai/lib/python3.7/site-packages/nibabel/volumeutils.py\u001b[0m in \u001b[0;36marray_from_file\u001b[0;34m(shape, in_dtype, infile, offset, order, mmap)\u001b[0m\n\u001b[1;32m    459\u001b[0m     \u001b[0;32mif\u001b[0m \u001b[0mhasattr\u001b[0m\u001b[0;34m(\u001b[0m\u001b[0minfile\u001b[0m\u001b[0;34m,\u001b[0m \u001b[0;34m'readinto'\u001b[0m\u001b[0;34m)\u001b[0m\u001b[0;34m:\u001b[0m\u001b[0;34m\u001b[0m\u001b[0m\n\u001b[1;32m    460\u001b[0m         \u001b[0mdata_bytes\u001b[0m \u001b[0;34m=\u001b[0m \u001b[0mbytearray\u001b[0m\u001b[0;34m(\u001b[0m\u001b[0mn_bytes\u001b[0m\u001b[0;34m)\u001b[0m\u001b[0;34m\u001b[0m\u001b[0m\n\u001b[0;32m--> 461\u001b[0;31m         \u001b[0mn_read\u001b[0m \u001b[0;34m=\u001b[0m \u001b[0minfile\u001b[0m\u001b[0;34m.\u001b[0m\u001b[0mreadinto\u001b[0m\u001b[0;34m(\u001b[0m\u001b[0mdata_bytes\u001b[0m\u001b[0;34m)\u001b[0m\u001b[0;34m\u001b[0m\u001b[0m\n\u001b[0m\u001b[1;32m    462\u001b[0m         \u001b[0mneeds_copy\u001b[0m \u001b[0;34m=\u001b[0m \u001b[0;32mFalse\u001b[0m\u001b[0;34m\u001b[0m\u001b[0m\n\u001b[1;32m    463\u001b[0m     \u001b[0;32melse\u001b[0m\u001b[0;34m:\u001b[0m\u001b[0;34m\u001b[0m\u001b[0m\n",
      "\u001b[0;32m~/anaconda3/envs/linjiatai/lib/python3.7/gzip.py\u001b[0m in \u001b[0;36mread\u001b[0;34m(self, size)\u001b[0m\n\u001b[1;32m    274\u001b[0m             \u001b[0;32mimport\u001b[0m \u001b[0merrno\u001b[0m\u001b[0;34m\u001b[0m\u001b[0m\n\u001b[1;32m    275\u001b[0m             \u001b[0;32mraise\u001b[0m \u001b[0mOSError\u001b[0m\u001b[0;34m(\u001b[0m\u001b[0merrno\u001b[0m\u001b[0;34m.\u001b[0m\u001b[0mEBADF\u001b[0m\u001b[0;34m,\u001b[0m \u001b[0;34m\"read() on write-only GzipFile object\"\u001b[0m\u001b[0;34m)\u001b[0m\u001b[0;34m\u001b[0m\u001b[0m\n\u001b[0;32m--> 276\u001b[0;31m         \u001b[0;32mreturn\u001b[0m \u001b[0mself\u001b[0m\u001b[0;34m.\u001b[0m\u001b[0m_buffer\u001b[0m\u001b[0;34m.\u001b[0m\u001b[0mread\u001b[0m\u001b[0;34m(\u001b[0m\u001b[0msize\u001b[0m\u001b[0;34m)\u001b[0m\u001b[0;34m\u001b[0m\u001b[0m\n\u001b[0m\u001b[1;32m    277\u001b[0m \u001b[0;34m\u001b[0m\u001b[0m\n\u001b[1;32m    278\u001b[0m     \u001b[0;32mdef\u001b[0m \u001b[0mread1\u001b[0m\u001b[0;34m(\u001b[0m\u001b[0mself\u001b[0m\u001b[0;34m,\u001b[0m \u001b[0msize\u001b[0m\u001b[0;34m=\u001b[0m\u001b[0;34m-\u001b[0m\u001b[0;36m1\u001b[0m\u001b[0;34m)\u001b[0m\u001b[0;34m:\u001b[0m\u001b[0;34m\u001b[0m\u001b[0m\n",
      "\u001b[0;32m~/anaconda3/envs/linjiatai/lib/python3.7/_compression.py\u001b[0m in \u001b[0;36mreadinto\u001b[0;34m(self, b)\u001b[0m\n\u001b[1;32m     66\u001b[0m     \u001b[0;32mdef\u001b[0m \u001b[0mreadinto\u001b[0m\u001b[0;34m(\u001b[0m\u001b[0mself\u001b[0m\u001b[0;34m,\u001b[0m \u001b[0mb\u001b[0m\u001b[0;34m)\u001b[0m\u001b[0;34m:\u001b[0m\u001b[0;34m\u001b[0m\u001b[0m\n\u001b[1;32m     67\u001b[0m         \u001b[0;32mwith\u001b[0m \u001b[0mmemoryview\u001b[0m\u001b[0;34m(\u001b[0m\u001b[0mb\u001b[0m\u001b[0;34m)\u001b[0m \u001b[0;32mas\u001b[0m \u001b[0mview\u001b[0m\u001b[0;34m,\u001b[0m \u001b[0mview\u001b[0m\u001b[0;34m.\u001b[0m\u001b[0mcast\u001b[0m\u001b[0;34m(\u001b[0m\u001b[0;34m\"B\"\u001b[0m\u001b[0;34m)\u001b[0m \u001b[0;32mas\u001b[0m \u001b[0mbyte_view\u001b[0m\u001b[0;34m:\u001b[0m\u001b[0;34m\u001b[0m\u001b[0m\n\u001b[0;32m---> 68\u001b[0;31m             \u001b[0mdata\u001b[0m \u001b[0;34m=\u001b[0m \u001b[0mself\u001b[0m\u001b[0;34m.\u001b[0m\u001b[0mread\u001b[0m\u001b[0;34m(\u001b[0m\u001b[0mlen\u001b[0m\u001b[0;34m(\u001b[0m\u001b[0mbyte_view\u001b[0m\u001b[0;34m)\u001b[0m\u001b[0;34m)\u001b[0m\u001b[0;34m\u001b[0m\u001b[0m\n\u001b[0m\u001b[1;32m     69\u001b[0m             \u001b[0mbyte_view\u001b[0m\u001b[0;34m[\u001b[0m\u001b[0;34m:\u001b[0m\u001b[0mlen\u001b[0m\u001b[0;34m(\u001b[0m\u001b[0mdata\u001b[0m\u001b[0;34m)\u001b[0m\u001b[0;34m]\u001b[0m \u001b[0;34m=\u001b[0m \u001b[0mdata\u001b[0m\u001b[0;34m\u001b[0m\u001b[0m\n\u001b[1;32m     70\u001b[0m         \u001b[0;32mreturn\u001b[0m \u001b[0mlen\u001b[0m\u001b[0;34m(\u001b[0m\u001b[0mdata\u001b[0m\u001b[0;34m)\u001b[0m\u001b[0;34m\u001b[0m\u001b[0m\n",
      "\u001b[0;32m~/anaconda3/envs/linjiatai/lib/python3.7/gzip.py\u001b[0m in \u001b[0;36mread\u001b[0;34m(self, size)\u001b[0m\n\u001b[1;32m    483\u001b[0m                                \"end-of-stream marker was reached\")\n\u001b[1;32m    484\u001b[0m \u001b[0;34m\u001b[0m\u001b[0m\n\u001b[0;32m--> 485\u001b[0;31m         \u001b[0mself\u001b[0m\u001b[0;34m.\u001b[0m\u001b[0m_add_read_data\u001b[0m\u001b[0;34m(\u001b[0m \u001b[0muncompress\u001b[0m \u001b[0;34m)\u001b[0m\u001b[0;34m\u001b[0m\u001b[0m\n\u001b[0m\u001b[1;32m    486\u001b[0m         \u001b[0mself\u001b[0m\u001b[0;34m.\u001b[0m\u001b[0m_pos\u001b[0m \u001b[0;34m+=\u001b[0m \u001b[0mlen\u001b[0m\u001b[0;34m(\u001b[0m\u001b[0muncompress\u001b[0m\u001b[0;34m)\u001b[0m\u001b[0;34m\u001b[0m\u001b[0m\n\u001b[1;32m    487\u001b[0m         \u001b[0;32mreturn\u001b[0m \u001b[0muncompress\u001b[0m\u001b[0;34m\u001b[0m\u001b[0m\n",
      "\u001b[0;32m~/anaconda3/envs/linjiatai/lib/python3.7/gzip.py\u001b[0m in \u001b[0;36m_add_read_data\u001b[0;34m(self, data)\u001b[0m\n\u001b[1;32m    488\u001b[0m \u001b[0;34m\u001b[0m\u001b[0m\n\u001b[1;32m    489\u001b[0m     \u001b[0;32mdef\u001b[0m \u001b[0m_add_read_data\u001b[0m\u001b[0;34m(\u001b[0m\u001b[0mself\u001b[0m\u001b[0;34m,\u001b[0m \u001b[0mdata\u001b[0m\u001b[0;34m)\u001b[0m\u001b[0;34m:\u001b[0m\u001b[0;34m\u001b[0m\u001b[0m\n\u001b[0;32m--> 490\u001b[0;31m         \u001b[0mself\u001b[0m\u001b[0;34m.\u001b[0m\u001b[0m_crc\u001b[0m \u001b[0;34m=\u001b[0m \u001b[0mzlib\u001b[0m\u001b[0;34m.\u001b[0m\u001b[0mcrc32\u001b[0m\u001b[0;34m(\u001b[0m\u001b[0mdata\u001b[0m\u001b[0;34m,\u001b[0m \u001b[0mself\u001b[0m\u001b[0;34m.\u001b[0m\u001b[0m_crc\u001b[0m\u001b[0;34m)\u001b[0m\u001b[0;34m\u001b[0m\u001b[0m\n\u001b[0m\u001b[1;32m    491\u001b[0m         \u001b[0mself\u001b[0m\u001b[0;34m.\u001b[0m\u001b[0m_stream_size\u001b[0m \u001b[0;34m=\u001b[0m \u001b[0mself\u001b[0m\u001b[0;34m.\u001b[0m\u001b[0m_stream_size\u001b[0m \u001b[0;34m+\u001b[0m \u001b[0mlen\u001b[0m\u001b[0;34m(\u001b[0m\u001b[0mdata\u001b[0m\u001b[0;34m)\u001b[0m\u001b[0;34m\u001b[0m\u001b[0m\n\u001b[1;32m    492\u001b[0m \u001b[0;34m\u001b[0m\u001b[0m\n",
      "\u001b[0;31mKeyboardInterrupt\u001b[0m: "
     ]
    }
   ],
   "source": [
    "#np读取数据\n",
    "datanp_train=load_npy_data(MRI_train,MRI_dir,\"1\")\n",
    "datanp_val=load_npy_data(MRI_test,MRI_dir,\"1\")"
   ]
  },
  {
   "cell_type": "code",
   "execution_count": 64,
   "id": "171b8540",
   "metadata": {},
   "outputs": [],
   "source": [
    "clin_train1=meta_train.values\n",
    "clin_test1=meta_test.values\n",
    "MRI_lasso_train1=MRI_lasso_train.values\n",
    "MRI_lasso_test1=MRI_lasso_test.values\n",
    "MRI_ttest_train1=MRI_ttest_train.values\n",
    "MRI_ttest_test1=MRI_ttest_test.values\n",
    "y_train1=y_train.values\n",
    "y_test1=y_test.values"
   ]
  },
  {
   "cell_type": "code",
   "execution_count": null,
   "id": "56e2d7fa",
   "metadata": {},
   "outputs": [],
   "source": []
  },
  {
   "cell_type": "code",
   "execution_count": 65,
   "id": "a8745675",
   "metadata": {},
   "outputs": [],
   "source": [
    "clin_train1=torch.tensor(clin_train1)\n",
    "clin_test1=torch.tensor(clin_test1)\n",
    "protein_train1=torch.tensor(protein_train)\n",
    "protein_test1=torch.tensor(protein_test)\n",
    "MRI_lasso_train1=torch.tensor(MRI_lasso_train1)\n",
    "MRI_lasso_test1=torch.tensor(MRI_lasso_test1)\n",
    "MRI_ttest_train1=torch.tensor(MRI_ttest_train1)\n",
    "MRI_ttest_test1=torch.tensor(MRI_ttest_test1)\n",
    "# MRI_train1=torch.tensor(datanp_train)\n",
    "# MRI_test1=torch.tensor(datanp_val)\n",
    "y_train1=torch.tensor(y_train1)\n",
    "y_test1=torch.tensor(y_test1)"
   ]
  },
  {
   "cell_type": "code",
   "execution_count": 66,
   "id": "d455d0e5",
   "metadata": {},
   "outputs": [],
   "source": [
    "torch.save(clin_train1,\"clin_train.pt\")\n",
    "torch.save(clin_test1,\"clin_test.pt\")\n",
    "torch.save(protein_train1,\"protein_train.pt\")\n",
    "torch.save(protein_test1,\"protein_test.pt\")\n",
    "torch.save(MRI_lasso_train1,\"MRI_lasso_train.pt\")\n",
    "torch.save(MRI_lasso_test1,\"MRI_lasso_test.pt\")\n",
    "# torch.save(MRI_ttest_train1,\"MRI_ttest_train.pt\")\n",
    "# torch.save(MRI_ttest_test1,\"MRI_ttest_test.pt\")\n",
    "torch.save(MRI_train1,\"MRI_train.pt\")\n",
    "torch.save(MRI_test1,\"MRI_test.pt\")\n",
    "torch.save(y_train1,\"y_train.pt\")\n",
    "torch.save(y_test1,\"y_test.pt\")"
   ]
  },
  {
   "cell_type": "code",
   "execution_count": null,
   "id": "6203f4d3",
   "metadata": {},
   "outputs": [],
   "source": []
  }
 ],
 "metadata": {
  "kernelspec": {
   "display_name": "Python 3 (ipykernel)",
   "language": "python",
   "name": "python3"
  },
  "language_info": {
   "codemirror_mode": {
    "name": "ipython",
    "version": 3
   },
   "file_extension": ".py",
   "mimetype": "text/x-python",
   "name": "python",
   "nbconvert_exporter": "python",
   "pygments_lexer": "ipython3",
   "version": "3.11.7"
  }
 },
 "nbformat": 4,
 "nbformat_minor": 5
}
