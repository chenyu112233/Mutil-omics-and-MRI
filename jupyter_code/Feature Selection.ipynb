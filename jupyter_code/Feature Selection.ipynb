{
 "cells": [
  {
   "cell_type": "code",
   "execution_count": 1,
   "metadata": {},
   "outputs": [],
   "source": [
    "import os\n",
    "import numpy as np\n",
    "import pandas as pd\n",
    "import numpy as np\n",
    "from sklearn.preprocessing import StandardScaler #用于数据归一化处理\n",
    "from scipy.stats import ttest_ind, levene  # T 检验 方差齐性检验\n",
    "from sklearn.linear_model import LassoCV \n",
    "from sklearn.utils import shuffle  # 数据混序\n",
    "from sklearn.preprocessing import StandardScaler "
   ]
  },
  {
   "cell_type": "code",
   "execution_count": null,
   "metadata": {},
   "outputs": [],
   "source": [
    "!pip install pandas"
   ]
  },
  {
   "cell_type": "code",
   "execution_count": 2,
   "metadata": {},
   "outputs": [
    {
     "data": {
      "text/plain": [
       "'/home/xyy/1-jupyter/code'"
      ]
     },
     "execution_count": 2,
     "metadata": {},
     "output_type": "execute_result"
    }
   ],
   "source": [
    "os.getcwd()"
   ]
  },
  {
   "cell_type": "code",
   "execution_count": 15,
   "metadata": {},
   "outputs": [],
   "source": [
    "dir=\"C:\\\\Users\\\\24993\\\\Desktop\\\\jupyter\\\\data\\\\3d_MRI_1024dim.xlsx\"\n",
    "meta_dir=\"C:\\\\Users\\\\24993\\\\Desktop\\\\jupyter\\\\data\\\\label.xlsx\""
   ]
  },
  {
   "cell_type": "code",
   "execution_count": 18,
   "metadata": {},
   "outputs": [],
   "source": [
    "features=pd.read_excel(dir)\n",
    "meta=pd.read_excel(meta_dir)"
   ]
  },
  {
   "cell_type": "code",
   "execution_count": 19,
   "metadata": {},
   "outputs": [],
   "source": [
    "features=features.set_index(\"MRI\")\n",
    "meta=meta.set_index(\"MRI\")\n",
    "label=meta[\"pCR\"]"
   ]
  },
  {
   "cell_type": "code",
   "execution_count": 20,
   "metadata": {},
   "outputs": [],
   "source": [
    "pCR=label[label==1]\n",
    "RD=label[label==0]\n",
    "pCR=pCR.to_frame()\n",
    "RD=RD.to_frame()"
   ]
  },
  {
   "cell_type": "code",
   "execution_count": 21,
   "metadata": {},
   "outputs": [],
   "source": [
    "feature_pCR=pd.DataFrame(features,index=pCR.index)\n",
    "feature_RD=pd.DataFrame(features,index=RD.index)"
   ]
  },
  {
   "cell_type": "code",
   "execution_count": 22,
   "metadata": {},
   "outputs": [
    {
     "name": "stdout",
     "output_type": "stream",
     "text": [
      "筛选后的特征个数：11个\n"
     ]
    }
   ],
   "source": [
    "#ttest\n",
    "counts=0\n",
    "columns_index=[]\n",
    "for column_name in feature_pCR.columns:\n",
    "    if levene(feature_pCR[column_name],feature_RD[column_name])[1]>0.05:\n",
    "        if ttest_ind(feature_pCR[column_name],feature_RD[column_name],equal_var=True)[1]<0.05:\n",
    "            columns_index.append(column_name)\n",
    "    else:\n",
    "        if ttest_ind(feature_pCR[column_name],feature_RD[column_name],equal_var=False)[1]<0.05:\n",
    "            columns_index.append(column_name)\n",
    "print(\"筛选后的特征个数：{}个\".format(len(columns_index)))"
   ]
  },
  {
   "cell_type": "code",
   "execution_count": 23,
   "metadata": {},
   "outputs": [],
   "source": [
    "data=features[columns_index]"
   ]
  },
  {
   "cell_type": "code",
   "execution_count": 24,
   "metadata": {},
   "outputs": [],
   "source": [
    "data1=pd.DataFrame(data)\n",
    "data1.index=data.index\n",
    "data1.columns=data.columns"
   ]
  },
  {
   "cell_type": "code",
   "execution_count": 55,
   "metadata": {},
   "outputs": [],
   "source": [
    "from sklearn import preprocessing   \n",
    " \n",
    "min_max_scaler = preprocessing.MinMaxScaler()  \n",
    " \n",
    "X_minMax = min_max_scaler.fit_transform(data1)  "
   ]
  },
  {
   "cell_type": "code",
   "execution_count": 61,
   "metadata": {},
   "outputs": [],
   "source": [
    "data2=pd.DataFrame(X_minMax)\n",
    "data2.index=data.index\n",
    "data2.columns=data.columns"
   ]
  },
  {
   "cell_type": "code",
   "execution_count": 63,
   "metadata": {},
   "outputs": [],
   "source": [
    "data2.to_excel(\"C:\\\\Users\\\\24993\\\\Desktop\\\\jupyter\\\\data\\\\grey60_ttest.xlsx\")"
   ]
  },
  {
   "cell_type": "code",
   "execution_count": 52,
   "metadata": {},
   "outputs": [],
   "source": [
    "X=data1\n",
    "y=label"
   ]
  },
  {
   "cell_type": "code",
   "execution_count": 53,
   "metadata": {},
   "outputs": [
    {
     "ename": "AttributeError",
     "evalue": "module 'numpy' has no attribute 'int'.\n`np.int` was a deprecated alias for the builtin `int`. To avoid this error in existing code, use `int` by itself. Doing this will not modify any behavior and is safe. When replacing `np.int`, you may wish to use e.g. `np.int64` or `np.int32` to specify the precision. If you wish to review your current use, check the release note link for additional information.\nThe aliases was originally deprecated in NumPy 1.20; for more details and guidance see the original release note at:\n    https://numpy.org/devdocs/release/1.20.0-notes.html#deprecations",
     "output_type": "error",
     "traceback": [
      "\u001b[1;31m---------------------------------------------------------------------------\u001b[0m",
      "\u001b[1;31mAttributeError\u001b[0m                            Traceback (most recent call last)",
      "Cell \u001b[1;32mIn[53], line 13\u001b[0m\n\u001b[0;32m      6\u001b[0m boruta_model \u001b[38;5;241m=\u001b[39m BorutaPy(\n\u001b[0;32m      7\u001b[0m         estimator\u001b[38;5;241m=\u001b[39mrf,\n\u001b[0;32m      8\u001b[0m         n_estimators\u001b[38;5;241m=\u001b[39m\u001b[38;5;124m'\u001b[39m\u001b[38;5;124mauto\u001b[39m\u001b[38;5;124m'\u001b[39m,\n\u001b[0;32m      9\u001b[0m         max_iter\u001b[38;5;241m=\u001b[39m\u001b[38;5;241m100\u001b[39m  \u001b[38;5;66;03m# number of trials to perform\u001b[39;00m\n\u001b[0;32m     10\u001b[0m     )\n\u001b[0;32m     12\u001b[0m \u001b[38;5;66;03m# 模型训练\u001b[39;00m\n\u001b[1;32m---> 13\u001b[0m boruta_model\u001b[38;5;241m.\u001b[39mfit(X, y)\n\u001b[0;32m     14\u001b[0m \u001b[38;5;66;03m# 输出结果\u001b[39;00m\n\u001b[0;32m     15\u001b[0m boruta_model\u001b[38;5;241m.\u001b[39msupport_    \u001b[38;5;66;03m#筛选后的特征，False代表滤除掉此特征\u001b[39;00m\n",
      "File \u001b[1;32m~\\AppData\\Roaming\\Python\\Python311\\site-packages\\boruta\\boruta_py.py:201\u001b[0m, in \u001b[0;36mBorutaPy.fit\u001b[1;34m(self, X, y)\u001b[0m\n\u001b[0;32m    188\u001b[0m \u001b[38;5;28;01mdef\u001b[39;00m \u001b[38;5;21mfit\u001b[39m(\u001b[38;5;28mself\u001b[39m, X, y):\n\u001b[0;32m    189\u001b[0m \u001b[38;5;250m    \u001b[39m\u001b[38;5;124;03m\"\"\"\u001b[39;00m\n\u001b[0;32m    190\u001b[0m \u001b[38;5;124;03m    Fits the Boruta feature selection with the provided estimator.\u001b[39;00m\n\u001b[0;32m    191\u001b[0m \n\u001b[1;32m   (...)\u001b[0m\n\u001b[0;32m    198\u001b[0m \u001b[38;5;124;03m        The target values.\u001b[39;00m\n\u001b[0;32m    199\u001b[0m \u001b[38;5;124;03m    \"\"\"\u001b[39;00m\n\u001b[1;32m--> 201\u001b[0m     \u001b[38;5;28;01mreturn\u001b[39;00m \u001b[38;5;28mself\u001b[39m\u001b[38;5;241m.\u001b[39m_fit(X, y)\n",
      "File \u001b[1;32m~\\AppData\\Roaming\\Python\\Python311\\site-packages\\boruta\\boruta_py.py:260\u001b[0m, in \u001b[0;36mBorutaPy._fit\u001b[1;34m(self, X, y)\u001b[0m\n\u001b[0;32m    255\u001b[0m _iter \u001b[38;5;241m=\u001b[39m \u001b[38;5;241m1\u001b[39m\n\u001b[0;32m    256\u001b[0m \u001b[38;5;66;03m# holds the decision about each feature:\u001b[39;00m\n\u001b[0;32m    257\u001b[0m \u001b[38;5;66;03m# 0  - default state = tentative in original code\u001b[39;00m\n\u001b[0;32m    258\u001b[0m \u001b[38;5;66;03m# 1  - accepted in original code\u001b[39;00m\n\u001b[0;32m    259\u001b[0m \u001b[38;5;66;03m# -1 - rejected in original code\u001b[39;00m\n\u001b[1;32m--> 260\u001b[0m dec_reg \u001b[38;5;241m=\u001b[39m np\u001b[38;5;241m.\u001b[39mzeros(n_feat, dtype\u001b[38;5;241m=\u001b[39mnp\u001b[38;5;241m.\u001b[39mint)\n\u001b[0;32m    261\u001b[0m \u001b[38;5;66;03m# counts how many times a given feature was more important than\u001b[39;00m\n\u001b[0;32m    262\u001b[0m \u001b[38;5;66;03m# the best of the shadow features\u001b[39;00m\n\u001b[0;32m    263\u001b[0m hit_reg \u001b[38;5;241m=\u001b[39m np\u001b[38;5;241m.\u001b[39mzeros(n_feat, dtype\u001b[38;5;241m=\u001b[39mnp\u001b[38;5;241m.\u001b[39mint)\n",
      "File \u001b[1;32mC:\\soft\\anaconda\\Lib\\site-packages\\numpy\\__init__.py:324\u001b[0m, in \u001b[0;36m__getattr__\u001b[1;34m(attr)\u001b[0m\n\u001b[0;32m    319\u001b[0m     warnings\u001b[38;5;241m.\u001b[39mwarn(\n\u001b[0;32m    320\u001b[0m         \u001b[38;5;124mf\u001b[39m\u001b[38;5;124m\"\u001b[39m\u001b[38;5;124mIn the future `np.\u001b[39m\u001b[38;5;132;01m{\u001b[39;00mattr\u001b[38;5;132;01m}\u001b[39;00m\u001b[38;5;124m` will be defined as the \u001b[39m\u001b[38;5;124m\"\u001b[39m\n\u001b[0;32m    321\u001b[0m         \u001b[38;5;124m\"\u001b[39m\u001b[38;5;124mcorresponding NumPy scalar.\u001b[39m\u001b[38;5;124m\"\u001b[39m, \u001b[38;5;167;01mFutureWarning\u001b[39;00m, stacklevel\u001b[38;5;241m=\u001b[39m\u001b[38;5;241m2\u001b[39m)\n\u001b[0;32m    323\u001b[0m \u001b[38;5;28;01mif\u001b[39;00m attr \u001b[38;5;129;01min\u001b[39;00m __former_attrs__:\n\u001b[1;32m--> 324\u001b[0m     \u001b[38;5;28;01mraise\u001b[39;00m \u001b[38;5;167;01mAttributeError\u001b[39;00m(__former_attrs__[attr])\n\u001b[0;32m    326\u001b[0m \u001b[38;5;28;01mif\u001b[39;00m attr \u001b[38;5;241m==\u001b[39m \u001b[38;5;124m'\u001b[39m\u001b[38;5;124mtesting\u001b[39m\u001b[38;5;124m'\u001b[39m:\n\u001b[0;32m    327\u001b[0m     \u001b[38;5;28;01mimport\u001b[39;00m \u001b[38;5;21;01mnumpy\u001b[39;00m\u001b[38;5;21;01m.\u001b[39;00m\u001b[38;5;21;01mtesting\u001b[39;00m \u001b[38;5;28;01mas\u001b[39;00m \u001b[38;5;21;01mtesting\u001b[39;00m\n",
      "\u001b[1;31mAttributeError\u001b[0m: module 'numpy' has no attribute 'int'.\n`np.int` was a deprecated alias for the builtin `int`. To avoid this error in existing code, use `int` by itself. Doing this will not modify any behavior and is safe. When replacing `np.int`, you may wish to use e.g. `np.int64` or `np.int32` to specify the precision. If you wish to review your current use, check the release note link for additional information.\nThe aliases was originally deprecated in NumPy 1.20; for more details and guidance see the original release note at:\n    https://numpy.org/devdocs/release/1.20.0-notes.html#deprecations"
     ]
    }
   ],
   "source": [
    "#boruta\n",
    "from sklearn.ensemble import RandomForestClassifier, RandomForestRegressor\n",
    "from boruta import BorutaPy\n",
    "\n",
    "rf = RandomForestRegressor(n_jobs=-1, max_depth=5)\n",
    "boruta_model = BorutaPy(\n",
    "        estimator=rf,\n",
    "        n_estimators='auto',\n",
    "        max_iter=100  # number of trials to perform\n",
    "    )\n",
    "\n",
    "# 模型训练\n",
    "boruta_model.fit(X, y)\n",
    "# 输出结果\n",
    "boruta_model.support_    #筛选后的特征，False代表滤除掉此特征\n",
    "boruta_model.ranking_   #1为选定的特征，2为暂定特征\n",
    "green_area = X.columns[boruta_model.support_].to_list()\n",
    "blue_area = X.columns[boruta_model.support_weak_].to_list() \n",
    "print('features in the green area:', green_area)\n",
    "print('features in the blue area:', blue_area)"
   ]
  },
  {
   "cell_type": "code",
   "execution_count": 141,
   "metadata": {},
   "outputs": [],
   "source": [
    "data_boruata=data1[green_area]"
   ]
  },
  {
   "cell_type": "code",
   "execution_count": 142,
   "metadata": {},
   "outputs": [],
   "source": [
    "data_boruata.to_excel(\"/home/linjiatai/Research/Data/MRI/protein/protein_boruata.xlsx\")"
   ]
  },
  {
   "cell_type": "code",
   "execution_count": 35,
   "metadata": {},
   "outputs": [],
   "source": [
    "lasso_x=data1\n",
    "lasso_y=meta[\"pCR\"]"
   ]
  },
  {
   "cell_type": "code",
   "execution_count": 36,
   "metadata": {},
   "outputs": [],
   "source": [
    "alphas = np.logspace(-4,1,50) \n",
    "# alphas 实际上是 λ 值，常量，通过模型优化选择，但可以给定范围，10e-4 到 1 范围内，等分 50 份，以 log 为间隔（以 10 为底，以等差数列中的每个值为指数），取 50 个值。\n",
    "\n",
    "model_lassoCV = LassoCV(alphas = alphas, cv=5,max_iter = 100000).fit(lasso_x,lasso_y)"
   ]
  },
  {
   "cell_type": "code",
   "execution_count": 37,
   "metadata": {},
   "outputs": [
    {
     "name": "stdout",
     "output_type": "stream",
     "text": [
      "0.18420699693267165\n",
      "Lasso picked 6\n",
      "S100A12    0.000880\n",
      "CLC        0.004679\n",
      "FADS2      0.006220\n",
      "PRG3       0.004596\n",
      "PRG2       0.005007\n",
      "TP53       0.014679\n",
      "dtype: float64\n"
     ]
    }
   ],
   "source": [
    "coef = pd.Series(model_lassoCV.coef_, index = lasso_x.columns)\n",
    "print(model_lassoCV.alpha_)  # 选出的最优 alpha 值 0.00040949150623804275\n",
    "print('%s %d'%('Lasso picked', sum(coef != 0))) # 系数不等于 0 的特殊个数 Lasso picked 21 \n",
    "print(coef[coef != 0]) "
   ]
  },
  {
   "cell_type": "code",
   "execution_count": 40,
   "metadata": {},
   "outputs": [],
   "source": [
    "coef_index=coef[coef != 0].index"
   ]
  },
  {
   "cell_type": "code",
   "execution_count": 41,
   "metadata": {},
   "outputs": [],
   "source": [
    "lasso_result=lasso_x[coef_index]"
   ]
  },
  {
   "cell_type": "code",
   "execution_count": 64,
   "metadata": {},
   "outputs": [],
   "source": [
    "X=data2"
   ]
  },
  {
   "cell_type": "code",
   "execution_count": 65,
   "metadata": {},
   "outputs": [
    {
     "name": "stdout",
     "output_type": "stream",
     "text": [
      "Accuracy: 67.86%\n",
      "AUC 0.7755102040816326\n"
     ]
    }
   ],
   "source": [
    "from sklearn.model_selection import train_test_split\n",
    "#导入你要分的数据特征X，标签Y\n",
    "X_train, X_test,y_train, y_test = train_test_split(X,label,test_size=0.2)\n",
    "from sklearn.svm import SVC\n",
    "from sklearn.metrics import accuracy_score,roc_auc_score  \n",
    "svm = SVC(kernel='poly',probability=True) # degree=3, random_state=42 \n",
    "\n",
    "svm.fit(X_train, y_train)  \n",
    "\n",
    "# 在测试集上进行预测  \n",
    "\n",
    "y_pred = svm.predict(X_test)  \n",
    "y_pred_proba = svm.predict_proba(X_test)[:, 1]\n",
    "auc=roc_auc_score(y_test, y_pred_proba)\n",
    "\n",
    "# 计算并打印准确率  \n",
    "\n",
    "accuracy = accuracy_score(y_test, y_pred)  \n",
    "\n",
    "print(\"Accuracy: %.2f%%\" % (accuracy * 100.0))\n",
    "print(\"AUC\",auc)"
   ]
  },
  {
   "cell_type": "code",
   "execution_count": null,
   "metadata": {},
   "outputs": [],
   "source": []
  }
 ],
 "metadata": {
  "kernelspec": {
   "display_name": "Python 3 (ipykernel)",
   "language": "python",
   "name": "python3"
  },
  "language_info": {
   "codemirror_mode": {
    "name": "ipython",
    "version": 3
   },
   "file_extension": ".py",
   "mimetype": "text/x-python",
   "name": "python",
   "nbconvert_exporter": "python",
   "pygments_lexer": "ipython3",
   "version": "3.7.12"
  }
 },
 "nbformat": 4,
 "nbformat_minor": 4
}
