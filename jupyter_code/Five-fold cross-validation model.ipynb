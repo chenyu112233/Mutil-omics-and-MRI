{
 "cells": [
  {
   "cell_type": "code",
   "execution_count": 1,
   "metadata": {},
   "outputs": [],
   "source": [
    "import shap\n",
    "import os\n",
    "import numpy as np\n",
    "import pandas as pd\n",
    "import matplotlib.pyplot as plt\n",
    "from sklearn import svm  \n",
    "from sklearn.svm import SVC\n",
    "from sklearn.ensemble import RandomForestClassifier\n",
    "from sklearn.linear_model import LogisticRegression\n",
    "from sklearn.naive_bayes import GaussianNB\n",
    "from sklearn.tree import DecisionTreeClassifier\n",
    "from sklearn.neighbors import KNeighborsClassifier\n",
    "from sklearn.linear_model import LogisticRegression\n",
    "from sklearn.metrics import auc,roc_curve\n",
    "from sklearn.svm import SVC\n",
    "from sklearn.metrics import confusion_matrix\n",
    "from sklearn import metrics\n",
    "\n",
    "from sklearn.metrics import roc_curve, auc,mean_squared_error\n",
    "from sklearn.model_selection import KFold\n",
    "from sklearn.preprocessing import MinMaxScaler\n",
    "from sklearn.model_selection import train_test_split\n",
    "from sklearn.model_selection import cross_val_score, KFold\n",
    "from sklearn.linear_model import LogisticRegression\n",
    "from sklearn.metrics import ConfusionMatrixDisplay  \n",
    "from sklearn.metrics import roc_auc_score, accuracy_score, confusion_matrix\n",
    "from sklearn.metrics import classification_report\n",
    "from sklearn.metrics import matthews_corrcoef\n",
    "from sklearn.metrics import recall_score\n",
    "from sklearn.metrics import f1_score\n",
    "\n",
    "import os\n",
    "import numpy as np\n",
    "import pandas as pd\n",
    "import matplotlib.pyplot as plt\n",
    "from sklearn.datasets import load_breast_cancer\n",
    "from sklearn.decomposition import PCA\n",
    "from sklearn.ensemble import RandomForestClassifier\n",
    "from sklearn.feature_selection import SelectKBest, f_classif\n",
    "from sklearn.linear_model import LassoCV\n",
    "from sklearn.preprocessing import StandardScaler\n",
    "from sklearn.feature_selection import RFE\n",
    "from sklearn.linear_model import LogisticRegression\n",
    "import matplotlib.pyplot as plt\n",
    "from sklearn.metrics import roc_curve, auc, precision_recall_curve\n",
    "from sklearn.calibration import calibration_curve\n",
    "from sklearn.metrics import accuracy_score, precision_score, recall_score, f1_score, roc_curve, auc, confusion_matrix\n",
    "\n",
    "\n",
    "import optuna\n",
    "from sklearn.model_selection import train_test_split, cross_val_score\n",
    "from sklearn.metrics import make_scorer, roc_auc_score\n",
    "from sklearn.linear_model import LogisticRegression\n",
    "from sklearn.ensemble import RandomForestClassifier\n",
    "from sklearn.svm import SVC\n",
    "from xgboost import XGBClassifier\n",
    "from lightgbm import LGBMClassifier\n",
    "from sklearn.naive_bayes import GaussianNB\n",
    "from sklearn.ensemble import BaggingRegressor\n",
    "from sklearn.ensemble import AdaBoostClassifier\n",
    "from sklearn.tree import DecisionTreeClassifier\n",
    "from sklearn.linear_model import LinearRegression\n",
    "from sklearn.neighbors import KNeighborsClassifier\n",
    "from sklearn.ensemble import RandomForestClassifier\n",
    "from sklearn.linear_model import LogisticRegression\n",
    "from sklearn.discriminant_analysis import LinearDiscriminantAnalysis\n",
    "\n",
    "from utils1 import calculate_confidence_interval,train_model,AUC_plot,shap_value,boxplot_and_savefig,bootstrap_ci"
   ]
  },
  {
   "cell_type": "code",
   "execution_count": null,
   "metadata": {},
   "outputs": [],
   "source": [
    "def model_test(model,X_train,X_test,y_train,y_test):\n",
    "    model.fit(X_train,y_train)\n",
    "# 预测测试集\n",
    "    y_pred = model.predict(X_test)\n",
    "\n",
    "# 计算AUC\n",
    "    roc_auc = roc_auc_score(y_test, model.predict_proba(X_test)[:, 1])\n",
    "    acc = accuracy_score(y_test, y_pred)\n",
    "    recall = recall_score(y_test, y_pred)\n",
    "    f1 = f1_score(y_test, y_pred)\n",
    "\n",
    "    tn, fp, fn, tp = confusion_matrix(y_test, y_pred).ravel()\n",
    "    specificity = tn / (tn + fp)\n",
    "    sensitivity = tp / (tp + fn)\n",
    "\n",
    "# 创建一个DataFrame来存储结果\n",
    "    metrics_df = pd.DataFrame({\n",
    "    'Metric': ['AUC', 'ACC', 'recall', 'spe', 'sen', 'F1'],\n",
    "    'Value': [roc_auc, acc, recall, specificity, sensitivity, f1]\n",
    "})\n",
    "    print(metrics_df)\n",
    "    return metrics_df"
   ]
  },
  {
   "cell_type": "code",
   "execution_count": 2,
   "metadata": {},
   "outputs": [
    {
     "data": {
      "text/plain": [
       "'/home/xyy/jupyter/code'"
      ]
     },
     "execution_count": 2,
     "metadata": {},
     "output_type": "execute_result"
    }
   ],
   "source": [
    "os.getcwd()"
   ]
  },
  {
   "cell_type": "code",
   "execution_count": 4,
   "metadata": {},
   "outputs": [],
   "source": [
    "dir='/home/xyy/jupyter/train_data_new'\n",
    "\n",
    "exp_train=pd.read_excel(os.path.join(dir,\"exp_train.xlsx\"))\n",
    "exp_test=pd.read_excel(os.path.join(dir,\"exp_test.xlsx\"))\n",
    "Intergrate_train=pd.read_excel(os.path.join(dir,\"Intergrate_train.xlsx\"))\n",
    "Intergrate_test=pd.read_excel(os.path.join(dir,\"Intergrate_test.xlsx\"))\n",
    "meta_train=pd.read_excel(os.path.join(dir,\"meta_train.xlsx\"))\n",
    "meta_test=pd.read_excel(os.path.join(dir,\"meta_test.xlsx\"))\n",
    "MRI_train=pd.read_excel(os.path.join(dir,\"MRI_train.xlsx\"))\n",
    "MRI_test=pd.read_excel(os.path.join(dir,\"MRI_test.xlsx\"))\n",
    "y_train=pd.read_excel(os.path.join(dir,\"y_train.xlsx\"))\n",
    "y_test=pd.read_excel(os.path.join(dir,\"y_test.xlsx\"))\n",
    "\n",
    "\n",
    "exp_train=exp_train.iloc[:,1:]\n",
    "exp_test=exp_test.iloc[:,1:]\n",
    "Intergrate_train=Intergrate_train.iloc[:,1:]\n",
    "Intergrate_test=Intergrate_test.iloc[:,1:]\n",
    "meta_train=meta_train.iloc[:,1:]\n",
    "meta_test=meta_test.iloc[:,1:]\n",
    "MRI_train=MRI_train.iloc[:,1:]\n",
    "MRI_test=MRI_test.iloc[:,1:]\n",
    "y_train=y_train.iloc[:,1:]\n",
    "y_test=y_test.iloc[:,1:]"
   ]
  },
  {
   "cell_type": "code",
   "execution_count": 157,
   "metadata": {},
   "outputs": [],
   "source": [
    "MRI_exp_train=pd.concat([MRI_train,exp_train],axis=1)\n",
    "MRI_exp_test=pd.concat([MRI_test,exp_test],axis=1)\n",
    "\n",
    "meta_exp_train=pd.concat([meta_train,exp_train],axis=1)\n",
    "meta_exp_test=pd.concat([meta_test,exp_test],axis=1)\n",
    "\n",
    "MRI_meta_train=pd.concat([MRI_train,meta_train],axis=1)\n",
    "MRI_meta_test=pd.concat([MRI_test,meta_test],axis=1)\n"
   ]
  },
  {
   "cell_type": "code",
   "execution_count": 180,
   "metadata": {},
   "outputs": [],
   "source": [
    "model1=LogisticRegression(tol=0.0001, solver= 'saga', random_state=8, penalty='l1', n_jobs= -1, multi_class='multinomial', max_iter= 600, intercept_scaling=0.001, fit_intercept=True, dual=False, class_weight='balanced', C=1)"
   ]
  },
  {
   "cell_type": "code",
   "execution_count": 181,
   "metadata": {},
   "outputs": [],
   "source": [
    "model2=LogisticRegression()"
   ]
  },
  {
   "cell_type": "code",
   "execution_count": 245,
   "metadata": {},
   "outputs": [],
   "source": [
    "model3=LogisticRegression(C=0.1, penalty='l1', solver='liblinear')"
   ]
  },
  {
   "cell_type": "code",
   "execution_count": 183,
   "metadata": {
    "collapsed": true,
    "jupyter": {
     "outputs_hidden": true
    },
    "tags": []
   },
   "outputs": [
    {
     "name": "stdout",
     "output_type": "stream",
     "text": [
      "   Metric     Value\n",
      "0     AUC  0.958333\n",
      "1     ACC  0.926829\n",
      "2  recall  0.916667\n",
      "3     spe  0.941176\n",
      "4     sen  0.916667\n",
      "5      F1  0.936170\n"
     ]
    },
    {
     "name": "stderr",
     "output_type": "stream",
     "text": [
      "/home/xyy/anaconda3/lib/python3.9/site-packages/sklearn/utils/validation.py:1111: DataConversionWarning: A column-vector y was passed when a 1d array was expected. Please change the shape of y to (n_samples, ), for example using ravel().\n",
      "  y = column_or_1d(y, warn=True)\n"
     ]
    }
   ],
   "source": [
    "result0=model_test(model1,X_train,X_test,y_train,y_test)"
   ]
  },
  {
   "cell_type": "code",
   "execution_count": 185,
   "metadata": {
    "collapsed": true,
    "jupyter": {
     "outputs_hidden": true
    },
    "tags": []
   },
   "outputs": [
    {
     "name": "stdout",
     "output_type": "stream",
     "text": [
      "   Metric     Value\n",
      "0     AUC  0.953431\n",
      "1     ACC  0.902439\n",
      "2  recall  0.916667\n",
      "3     spe  0.882353\n",
      "4     sen  0.916667\n",
      "5      F1  0.916667\n"
     ]
    },
    {
     "name": "stderr",
     "output_type": "stream",
     "text": [
      "/home/xyy/anaconda3/lib/python3.9/site-packages/sklearn/utils/validation.py:1111: DataConversionWarning: A column-vector y was passed when a 1d array was expected. Please change the shape of y to (n_samples, ), for example using ravel().\n",
      "  y = column_or_1d(y, warn=True)\n"
     ]
    }
   ],
   "source": [
    "result1=model_test(model2,MRI_exp_train,MRI_exp_test,y_train,y_test)"
   ]
  },
  {
   "cell_type": "code",
   "execution_count": 235,
   "metadata": {
    "collapsed": true,
    "jupyter": {
     "outputs_hidden": true
    },
    "tags": []
   },
   "outputs": [
    {
     "name": "stdout",
     "output_type": "stream",
     "text": [
      "   Metric     Value\n",
      "0     AUC  0.870098\n",
      "1     ACC  0.780488\n",
      "2  recall  0.833333\n",
      "3     spe  0.705882\n",
      "4     sen  0.833333\n",
      "5      F1  0.816327\n"
     ]
    },
    {
     "name": "stderr",
     "output_type": "stream",
     "text": [
      "/home/xyy/anaconda3/lib/python3.9/site-packages/sklearn/utils/validation.py:1111: DataConversionWarning: A column-vector y was passed when a 1d array was expected. Please change the shape of y to (n_samples, ), for example using ravel().\n",
      "  y = column_or_1d(y, warn=True)\n"
     ]
    }
   ],
   "source": [
    "result1=model_test(model3,MRI_exp_train,MRI_exp_test,y_train,y_test)"
   ]
  },
  {
   "cell_type": "code",
   "execution_count": 188,
   "metadata": {
    "collapsed": true,
    "jupyter": {
     "outputs_hidden": true
    },
    "tags": []
   },
   "outputs": [
    {
     "name": "stdout",
     "output_type": "stream",
     "text": [
      "   Metric     Value\n",
      "0     AUC  0.786765\n",
      "1     ACC  0.707317\n",
      "2  recall  0.791667\n",
      "3     spe  0.588235\n",
      "4     sen  0.791667\n",
      "5      F1  0.760000\n"
     ]
    },
    {
     "name": "stderr",
     "output_type": "stream",
     "text": [
      "/home/xyy/anaconda3/lib/python3.9/site-packages/sklearn/utils/validation.py:1111: DataConversionWarning: A column-vector y was passed when a 1d array was expected. Please change the shape of y to (n_samples, ), for example using ravel().\n",
      "  y = column_or_1d(y, warn=True)\n"
     ]
    }
   ],
   "source": [
    "result2=model_test(model1,meta_exp_train,meta_exp_test,y_train,y_test)"
   ]
  },
  {
   "cell_type": "code",
   "execution_count": 189,
   "metadata": {
    "collapsed": true,
    "jupyter": {
     "outputs_hidden": true
    },
    "tags": []
   },
   "outputs": [
    {
     "name": "stdout",
     "output_type": "stream",
     "text": [
      "   Metric     Value\n",
      "0     AUC  0.953431\n",
      "1     ACC  0.902439\n",
      "2  recall  0.958333\n",
      "3     spe  0.823529\n",
      "4     sen  0.958333\n",
      "5      F1  0.920000\n"
     ]
    },
    {
     "name": "stderr",
     "output_type": "stream",
     "text": [
      "/home/xyy/anaconda3/lib/python3.9/site-packages/sklearn/utils/validation.py:1111: DataConversionWarning: A column-vector y was passed when a 1d array was expected. Please change the shape of y to (n_samples, ), for example using ravel().\n",
      "  y = column_or_1d(y, warn=True)\n"
     ]
    }
   ],
   "source": [
    "result3=model_test(model1,MRI_meta_train,MRI_meta_test,y_train,y_test)"
   ]
  },
  {
   "cell_type": "code",
   "execution_count": 246,
   "metadata": {
    "collapsed": true,
    "jupyter": {
     "outputs_hidden": true
    },
    "tags": []
   },
   "outputs": [
    {
     "name": "stdout",
     "output_type": "stream",
     "text": [
      "   Metric     Value\n",
      "0     AUC  0.872549\n",
      "1     ACC  0.756098\n",
      "2  recall  0.791667\n",
      "3     spe  0.705882\n",
      "4     sen  0.791667\n",
      "5      F1  0.791667\n"
     ]
    },
    {
     "name": "stderr",
     "output_type": "stream",
     "text": [
      "/home/xyy/anaconda3/lib/python3.9/site-packages/sklearn/utils/validation.py:1111: DataConversionWarning: A column-vector y was passed when a 1d array was expected. Please change the shape of y to (n_samples, ), for example using ravel().\n",
      "  y = column_or_1d(y, warn=True)\n"
     ]
    }
   ],
   "source": [
    "result4=model_test(model3,MRI_train,MRI_test,y_train,y_test)"
   ]
  },
  {
   "cell_type": "code",
   "execution_count": 192,
   "metadata": {
    "collapsed": true,
    "jupyter": {
     "outputs_hidden": true
    },
    "tags": []
   },
   "outputs": [
    {
     "name": "stdout",
     "output_type": "stream",
     "text": [
      "   Metric     Value\n",
      "0     AUC  0.718137\n",
      "1     ACC  0.707317\n",
      "2  recall  0.750000\n",
      "3     spe  0.647059\n",
      "4     sen  0.750000\n",
      "5      F1  0.750000\n"
     ]
    },
    {
     "name": "stderr",
     "output_type": "stream",
     "text": [
      "/home/xyy/anaconda3/lib/python3.9/site-packages/sklearn/utils/validation.py:1111: DataConversionWarning: A column-vector y was passed when a 1d array was expected. Please change the shape of y to (n_samples, ), for example using ravel().\n",
      "  y = column_or_1d(y, warn=True)\n"
     ]
    }
   ],
   "source": [
    "result5=model_test(model2,exp_train,exp_test,y_train,y_test)"
   ]
  },
  {
   "cell_type": "code",
   "execution_count": 194,
   "metadata": {
    "collapsed": true,
    "jupyter": {
     "outputs_hidden": true
    },
    "tags": []
   },
   "outputs": [
    {
     "name": "stdout",
     "output_type": "stream",
     "text": [
      "   Metric     Value\n",
      "0     AUC  0.694853\n",
      "1     ACC  0.634146\n",
      "2  recall  0.916667\n",
      "3     spe  0.235294\n",
      "4     sen  0.916667\n",
      "5      F1  0.745763\n"
     ]
    },
    {
     "name": "stderr",
     "output_type": "stream",
     "text": [
      "/home/xyy/anaconda3/lib/python3.9/site-packages/sklearn/utils/validation.py:1111: DataConversionWarning: A column-vector y was passed when a 1d array was expected. Please change the shape of y to (n_samples, ), for example using ravel().\n",
      "  y = column_or_1d(y, warn=True)\n"
     ]
    }
   ],
   "source": [
    "result6=model_test(model2,meta_train,meta_test,y_train,y_test)"
   ]
  },
  {
   "cell_type": "code",
   "execution_count": 256,
   "metadata": {
    "tags": []
   },
   "outputs": [],
   "source": [
    "all={}\n",
    "all[\"Intergrate\"]=result0\n",
    "all[\"MRI_exp\"]=result1\n",
    "all[\"meta_exp\"]=result2\n",
    "all[\"MRI_meta\"]=result3\n",
    "all[\"MRI\"]=result4\n",
    "all[\"exp\"]=result5\n",
    "all[\"meta\"]=result6\n",
    "\n",
    "with open('result.csv', 'w', newline='') as file:\n",
    "    writer = csv.writer(file)\n",
    "    writer.writerow(['key', 'value'])  # 写入标题行\n",
    "    for key, value in all.items():\n",
    "        writer.writerow([key, str(value)])  # 写入键值对"
   ]
  },
  {
   "cell_type": "code",
   "execution_count": 196,
   "metadata": {
    "tags": []
   },
   "outputs": [],
   "source": [
    "def AUC_plot(model,X_train,X_test,y_train,y_test):\n",
    "    model.fit(X_train, y_train)\n",
    "    y_pred = model.predict(X_test)\n",
    "    y_pred_proba = model.predict_proba(X_test)[:, 1]\n",
    "    return y_pred_proba,y_pred,np.array(y_test)"
   ]
  },
  {
   "cell_type": "code",
   "execution_count": 212,
   "metadata": {},
   "outputs": [],
   "source": [
    "y_test1 = y_test.values\n",
    "\n",
    "# 将数组转换为一维数组\n",
    "y_test1= y_test1.flatten()"
   ]
  },
  {
   "cell_type": "code",
   "execution_count": 253,
   "metadata": {
    "collapsed": true,
    "jupyter": {
     "outputs_hidden": true
    },
    "tags": []
   },
   "outputs": [
    {
     "name": "stderr",
     "output_type": "stream",
     "text": [
      "/home/xyy/anaconda3/lib/python3.9/site-packages/sklearn/utils/validation.py:1111: DataConversionWarning: A column-vector y was passed when a 1d array was expected. Please change the shape of y to (n_samples, ), for example using ravel().\n",
      "  y = column_or_1d(y, warn=True)\n",
      "/home/xyy/anaconda3/lib/python3.9/site-packages/sklearn/utils/validation.py:1111: DataConversionWarning: A column-vector y was passed when a 1d array was expected. Please change the shape of y to (n_samples, ), for example using ravel().\n",
      "  y = column_or_1d(y, warn=True)\n",
      "/home/xyy/anaconda3/lib/python3.9/site-packages/sklearn/utils/validation.py:1111: DataConversionWarning: A column-vector y was passed when a 1d array was expected. Please change the shape of y to (n_samples, ), for example using ravel().\n",
      "  y = column_or_1d(y, warn=True)\n",
      "/home/xyy/anaconda3/lib/python3.9/site-packages/sklearn/utils/validation.py:1111: DataConversionWarning: A column-vector y was passed when a 1d array was expected. Please change the shape of y to (n_samples, ), for example using ravel().\n",
      "  y = column_or_1d(y, warn=True)\n"
     ]
    }
   ],
   "source": [
    "AUC0=AUC_plot(model1,X_train,X_test,y_train,y_test1)\n",
    "# AUC1=AUC_plot(model2,MRI_exp_train,MRI_exp_test,y_train,y_test1)\n",
    "# AUC2=AUC_plot(model1,meta_exp_train,meta_exp_test,y_train,y_test1)\n",
    "# AUC3=AUC_plot(model1,MRI_meta_train,MRI_meta_test,y_train,y_test1)\n",
    "AUC4=AUC_plot(model3,MRI_train,MRI_test,y_train,y_test1)\n",
    "AUC5=AUC_plot(model2,exp_train,exp_test,y_train,y_test1)\n",
    "AUC6=AUC_plot(model2,meta_train,meta_test,y_train,y_test1)\n",
    "\n",
    "\n",
    "AUC=[]\n",
    "AUC.append(AUC0)\n",
    "# AUC.append(AUC1)\n",
    "# AUC.append(AUC2)\n",
    "# AUC.append(AUC3)\n",
    "AUC.append(AUC4)\n",
    "AUC.append(AUC5)\n",
    "AUC.append(AUC6)"
   ]
  },
  {
   "cell_type": "code",
   "execution_count": 260,
   "metadata": {},
   "outputs": [],
   "source": [
    "AUC = np.array(AUC)\n",
    "np.save('AUC.npy', AUC)"
   ]
  },
  {
   "cell_type": "code",
   "execution_count": 265,
   "metadata": {},
   "outputs": [
    {
     "data": {
      "image/png": "[encoded data removed]",
      "text/plain": [
       "<Figure size 576x576 with 1 Axes>"
      ]
     },
     "metadata": {
      "needs_background": "light"
     },
     "output_type": "display_data"
    }
   ],
   "source": [
    "from sklearn.metrics import precision_recall_curve  \n",
    "j=[\"PMCDN\",\"MRI\",\"Proteomics\",\"meta\"]\n",
    "plt.figure(figsize=(8, 8))\n",
    "for i in range(len(AUC)):\n",
    "    precision, recall, _ = precision_recall_curve(AUC[i][2],AUC[i][0] )  \n",
    "# 绘制PR图  \n",
    "    plt.plot(recall, precision, marker='.', label=\"{}\".format(j[i]))  \n",
    "plt.legend(loc='lower left',fontsize=12) \n",
    "plt.yticks(fontsize=12)\n",
    "plt.xticks(fontsize=12) \n",
    "plt.xlabel('Recall',fontsize=16) \n",
    "plt.ylabel('Precision',fontsize=16) \n",
    "plt.title('Precision-Recall Curve',fontsize=18)\n",
    "plt.savefig('PR.pdf') \n",
    "plt.show()"
   ]
  },
  {
   "cell_type": "code",
   "execution_count": 262,
   "metadata": {},
   "outputs": [
    {
     "data": {
      "image/png": "[encoded data removed]",
      "text/plain": [
       "<Figure size 576x576 with 1 Axes>"
      ]
     },
     "metadata": {
      "needs_background": "light"
     },
     "output_type": "display_data"
    }
   ],
   "source": [
    "\n",
    "# 绘制AUC曲线\n",
    "plt.figure(figsize=(8, 8))\n",
    "for i in range(len(AUC)):   \n",
    "    fpr, tpr, _ = roc_curve(AUC[i][2], AUC[i][0])\n",
    "    roc_auc = auc(fpr, tpr)\n",
    "    plt.plot(fpr, tpr, lw=2, label='{} (AUC = {:.3f})'.format(j[i], roc_auc))\n",
    "\n",
    "plt.plot([0, 1], [0, 1], color='navy', lw=2, linestyle='--')\n",
    "plt.xlim([0.0, 1.0])\n",
    "plt.ylim([0.0, 1.05])\n",
    "plt.yticks(fontsize=12)\n",
    "plt.xticks(fontsize=12) \n",
    "plt.xlabel('False Positive Rate', fontsize=16)\n",
    "plt.ylabel('True Positive Rate', fontsize=16)\n",
    "plt.tick_params(axis='both', which='major', labelsize=12) \n",
    "plt.tick_params(axis='both', which='minor', labelsize=12)\n",
    "\n",
    "plt.title('Receiver Operating Characteristic (ROC)',fontsize=18 )\n",
    "plt.legend(loc='lower right', fontsize=12)\n",
    "\n",
    "plt.savefig('ROC.pdf') \n",
    "plt.show()"
   ]
  },
  {
   "cell_type": "code",
   "execution_count": 261,
   "metadata": {},
   "outputs": [
    {
     "name": "stderr",
     "output_type": "stream",
     "text": [
      "/home/xyy/anaconda3/lib/python3.9/site-packages/sklearn/utils/validation.py:1111: DataConversionWarning: A column-vector y was passed when a 1d array was expected. Please change the shape of y to (n_samples, ), for example using ravel().\n",
      "  y = column_or_1d(y, warn=True)\n",
      "/home/xyy/anaconda3/lib/python3.9/site-packages/sklearn/utils/validation.py:1111: DataConversionWarning: A column-vector y was passed when a 1d array was expected. Please change the shape of y to (n_samples, ), for example using ravel().\n",
      "  y = column_or_1d(y, warn=True)\n",
      "/home/xyy/anaconda3/lib/python3.9/site-packages/sklearn/utils/validation.py:1111: DataConversionWarning: A column-vector y was passed when a 1d array was expected. Please change the shape of y to (n_samples, ), for example using ravel().\n",
      "  y = column_or_1d(y, warn=True)\n",
      "/home/xyy/anaconda3/lib/python3.9/site-packages/sklearn/utils/validation.py:1111: DataConversionWarning: A column-vector y was passed when a 1d array was expected. Please change the shape of y to (n_samples, ), for example using ravel().\n",
      "  y = column_or_1d(y, warn=True)\n",
      "/home/xyy/anaconda3/lib/python3.9/site-packages/sklearn/linear_model/_sag.py:350: ConvergenceWarning: The max_iter was reached which means the coef_ did not converge\n",
      "  warnings.warn(\n",
      "/home/xyy/anaconda3/lib/python3.9/site-packages/sklearn/utils/validation.py:1111: DataConversionWarning: A column-vector y was passed when a 1d array was expected. Please change the shape of y to (n_samples, ), for example using ravel().\n",
      "  y = column_or_1d(y, warn=True)\n"
     ]
    }
   ],
   "source": [
    "shap_value(model1,X_train,y_train)"
   ]
  },
  {
   "cell_type": "code",
   "execution_count": null,
   "metadata": {},
   "outputs": [],
   "source": []
  }
 ],
 "metadata": {
  "kernelspec": {
   "display_name": "Python 3 (ipykernel)",
   "language": "python",
   "name": "python3"
  },
  "language_info": {
   "codemirror_mode": {
    "name": "ipython",
    "version": 3
   },
   "file_extension": ".py",
   "mimetype": "text/x-python",
   "name": "python",
   "nbconvert_exporter": "python",
   "pygments_lexer": "ipython3",
   "version": "3.9.7"
  }
 },
 "nbformat": 4,
 "nbformat_minor": 4
}
